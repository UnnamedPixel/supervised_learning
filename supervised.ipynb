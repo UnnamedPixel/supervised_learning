{
 "cells": [
  {
   "cell_type": "markdown",
   "metadata": {},
   "source": [
    "# Introduction\n",
    "\n",
    "The objectives of this lab are\n",
    "- Introduction to the MNIST dataset,\n",
    "- Manipulation of the Python library scikit-learn for machine learning,\n",
    "- First examples of supervised classification with the k-nearest neighbors method (k-NN) [Lecture 1],\n",
    "- Evaluation of the classification error,\n",
    "- Selection of models."
   ]
  },
  {
   "cell_type": "markdown",
   "metadata": {},
   "source": [
    "Scikit-learn is a Python software requiring the installation of the libraries NumPy and SciPy (for scientific computation), in compatible versions.\n",
    "- From scratch, the easiest is to install a complete Python distribution, e.g. Anaconda3 with a new environment, which includes most of the usual Python libraries. The official website of scikit-learn is: http://scikit-learn.org/stable/index.html.\n",
    "- On the machines at INSA, the Python environment should already include most libraries. In the case of a missing library, you can add it with pip: e.g. **pip install numpy**. We advice to use an IDE, e.g. Visual Studio, to edit the jupyter-notebook.\n",
    "- Alternatively, you can directly run your code on Google Colab, which allows to access your work from anywhere. Beware, the computation and memory resources are limited."
   ]
  },
  {
   "cell_type": "markdown",
   "metadata": {},
   "source": [
    "# 1. The dataset\n",
    "\n",
    "### scikit-learn datasets\n",
    "Some datasets are natively available in scikit-learn: https://scikit-learn.org/stable/datasets/real_world.html. It is also possible to generate artificial data or get external data (see unsupervised learning lab).\n",
    "\n",
    "The datasets include a certain number of attributes (all attributes are not included in all datasets): in particular .data, .target, .target_names, .feature_names, .DESCR:\n",
    "- .data: table of dimensions n x m where n is the number of samples, and m the number of features.\n",
    "- .target: the classes (labels) of each instance (in the case of supervised learning).\n",
    "- .target_names: names of the classes.\n",
    "- .feature_names: names of the features.\n",
    "- .DESCR: complete description of the dataset in textual format.\n",
    "\n",
    "### MNIST\n",
    "MNIST was developed by the pionners of deep learning, Y. LeCun et Y. Bengio, in 1998. The MNIST database, for Modified or Mixed National Institute of Standards and\n",
    "Technology, is a database of manually written numbers from 0 to 9. By definition, it is a multi-class classification problem with 10 classes. An input sample is an image of fixed size 28 x 28. For example:\n",
    "\n",
    "<img src=\"https://collonvillethomas.files.wordpress.com/2021/04/image-6.png?w=569\" alt=\"MNIST example\" />\n",
    "\n",
    "Thus an example is a vector with 28*28=784 components corresponding to the grayscale of each of the 784 pixels."
   ]
  },
  {
   "cell_type": "markdown",
   "metadata": {},
   "source": [
    "## Exercice 1: Manipulation of the database"
   ]
  },
  {
   "cell_type": "markdown",
   "metadata": {},
   "source": [
    "0. Importing the dataset"
   ]
  },
  {
   "cell_type": "code",
   "execution_count": 15,
   "metadata": {},
   "outputs": [],
   "source": [
    "# Option 1:\n",
    "import numpy as np\n",
    "from sklearn.datasets import fetch_openml\n",
    "mnist = fetch_openml('mnist_784',parser='auto')\n",
    "\n",
    "# ## Option 2:\n",
    "# from sklearn.datasets import fetch_mldata\n",
    "# mnist = fetch_mldata('MNIST original')\n",
    "\n",
    "# ## Option 3:\n",
    "# ## Directly fetch mnist.mat on the internet, for example: https://github.com/daniel-e/mnist_octave/raw/master/mnist.mat"
   ]
  },
  {
   "cell_type": "markdown",
   "metadata": {},
   "source": [
    "1. Execute the following commands and understand what they do (you will have to use them again)."
   ]
  },
  {
   "cell_type": "code",
   "execution_count": 50,
   "metadata": {},
   "outputs": [
    {
     "name": "stdout",
     "output_type": "stream",
     "text": [
      "9\n"
     ]
    }
   ],
   "source": [
    "# Visualize content of mnist dataset\n",
    "\n",
    "print(mnist)\n",
    "\n",
    "print (mnist.data)\n",
    "\n",
    "print (mnist.target)\n",
    "\n",
    "len(mnist.data)\n",
    "help(len)\n",
    "print (mnist.data.shape)\n",
    "\n",
    "print (mnist.target.shape)\n",
    "\n",
    "# Convert to numpy array\n",
    "X=np.asarray(mnist.data)\n",
    "print(X[0]) # ensemble des pixels de la premiere image\n",
    "\n",
    "print(X[0][1]) # premier pixel de la premiere image\n",
    "\n",
    "print(X[:,1]) # tous les premiers pixels des 70 000 images\n",
    "\n",
    "print(X[:100]) \n",
    "\n",
    "y=np.asarray(mnist.target) # les classes de chaque image\n",
    "print(y[0]) # classe de la premiere image\n"
   ]
  },
  {
   "cell_type": "markdown",
   "metadata": {},
   "source": [
    "2. Visualise the data\n",
    "\n",
    "scikit-learn includes the library matplotlib which propose numerous primitives to generate curves and graphics. The database MNIST contains written numbers as images with a fixed size 28 x 28. Execute the following commands and understand them."
   ]
  },
  {
   "cell_type": "code",
   "execution_count": 52,
   "metadata": {},
   "outputs": [
    {
     "data": {
      "image/png": "[encoded data removed]",
      "text/plain": [
       "<Figure size 640x480 with 1 Axes>"
      ]
     },
     "metadata": {},
     "output_type": "display_data"
    }
   ],
   "source": [
    "from sklearn import datasets\n",
    "import matplotlib.pyplot as plt\n",
    "images = X.reshape((-1, 28, 28))\n",
    "plt.imshow(images[0],cmap=plt.cm.gray_r,interpolation=\"nearest\")\n",
    "plt.show()"
   ]
  },
  {
   "cell_type": "markdown",
   "metadata": {},
   "source": [
    "Affichez la classe correspondante à l’image affichée."
   ]
  },
  {
   "cell_type": "code",
   "execution_count": 53,
   "metadata": {},
   "outputs": [
    {
     "name": "stdout",
     "output_type": "stream",
     "text": [
      "5\n"
     ]
    }
   ],
   "source": [
    "print(y[0])\n"
   ]
  },
  {
   "cell_type": "markdown",
   "metadata": {},
   "source": [
    "3. Explore other datasets\n",
    "\n",
    "scikit-learn includes the library matplotlib which propose numerous primitives to generate curves and graphics. The database MNIST contains written numbers as images with a fixed size 28 x 28. Execute the following commands and understand them."
   ]
  },
  {
   "cell_type": "code",
   "execution_count": 54,
   "metadata": {},
   "outputs": [
    {
     "name": "stdout",
     "output_type": "stream",
     "text": [
      "downloading Olivetti faces from https://ndownloader.figshare.com/files/5976027 to C:\\Users\\33785\\scikit_learn_data\n"
     ]
    },
    {
     "data": {
      "image/png": "[encoded data removed]",
      "text/plain": [
       "<Figure size 640x480 with 1 Axes>"
      ]
     },
     "metadata": {},
     "output_type": "display_data"
    },
    {
     "name": "stdout",
     "output_type": "stream",
     "text": [
      "0\n"
     ]
    }
   ],
   "source": [
    "# SOLUTION\n",
    "import numpy as np\n",
    "from sklearn.datasets import fetch_olivetti_faces\n",
    "olivetti = fetch_olivetti_faces()\n",
    "\n",
    "X_olivetti=np.asarray(olivetti.data)\n",
    "images_olivetti = X_olivetti.reshape((-1, 64, 64))\n",
    "plt.imshow(images_olivetti[0],cmap=plt.cm.gray_r,interpolation=\"nearest\")\n",
    "plt.show()\n",
    "print(olivetti.target[0])"
   ]
  },
  {
   "cell_type": "markdown",
   "metadata": {},
   "source": [
    "# 2. The k-Nearest Neighbors (k-NN) method\n",
    "\n",
    "The k-NN method is a very intuitive algorithm, which can be parametrized and often has a good performance on clasification problems.\n",
    "\n",
    "The k-NN method requires:\n",
    "- an integer k\n",
    "- a training dataset\n",
    "- a proximity/similarity/distance measure\n",
    "\n",
    "The principle of the algorithm is the following:\n",
    "For a new unlabelled example x, find the k labelled samples from the training dataset which are the closest with respect to the chosen measure (the neighbors). The class associated to x is then the one appearing most often among the neighbors (majority/consensus).\n",
    "\n",
    "In the following example, we have 3 classes (ω1, ω2, ω3) and the goal is to find the value of the class for an unknown example x. We consider the Euclidian distance as proximity measure and k=5 neighbors.\n",
    "\n",
    "<img src=\"https://miro.medium.com/v2/resize:fit:488/1*9h-WczF6csbeut5vsvjSUA.gif\" alt=\"k-NN example\" />\n",
    "\n",
    "Among the 5 nearest neighbors, 4 belong to ω1 and 1 belongs to ω3, so x is affected to ω1, the class of the majority."
   ]
  },
  {
   "cell_type": "markdown",
   "metadata": {},
   "source": [
    "### Information:\n",
    "We use the library sklearn.neighbors to execute an example of this classification algorithm.\n",
    "\n",
    "The command **train_test_split**, implemented in **model_selection** in **sklearn** allows to divide the dataset in two: one training set and one test set:\n",
    "xtrain, xtest, ytrain, ytest = train_test_split(data, target, train_size=pourcentage_de_données)\n",
    "\n",
    "Exemple percentage of data = 0.7 (70%)\n",
    "\n",
    "The algorithm k-NN is implemented in a package called **neighbors**.\n",
    "Here are the main commands:\n",
    "- The line **clf = neighbors.KNeighborsClassifier(n_neighbors)** creates an object of type classifier based on the n_neighbors closest neighbors,\n",
    "- The instruction clf.fit(X, y) uses the data to define the classifier (training),\n",
    "- The command **clf.predict()** is used to classify the new examples,\n",
    "- The command **clf.predict_proba()** allows to estimate the probability of the proposed classification,\n",
    "- The command **clf.score(xtest, ytest)** computes the global score of the classifier for a given dataset."
   ]
  },
  {
   "cell_type": "markdown",
   "metadata": {},
   "source": [
    "## Exercice 2: The method of the k-NN"
   ]
  },
  {
   "cell_type": "markdown",
   "metadata": {},
   "source": [
    "- Import the dataset"
   ]
  },
  {
   "cell_type": "code",
   "execution_count": 3,
   "metadata": {},
   "outputs": [],
   "source": [
    "import numpy as np\n",
    "from sklearn.datasets import fetch_openml\n",
    "mnist = fetch_openml('mnist_784',parser='auto')\n",
    "\n",
    "X_complete=np.asarray(mnist.data)\n",
    "y_complete=np.asarray(mnist.target)"
   ]
  },
  {
   "cell_type": "markdown",
   "metadata": {},
   "source": [
    "- Extract a data sample named X with a size of 5000 examples using the function **np.random.randint(70000, size=5000)**, with the corresponding labels y."
   ]
  },
  {
   "cell_type": "code",
   "execution_count": 4,
   "metadata": {},
   "outputs": [],
   "source": [
    "# TODO\n",
    "\n",
    "\n",
    "sample_choosen = np.random.randint(70000, size=5000)\n",
    "\n",
    "\n",
    "x_reduced_ds = X_complete[sample_choosen]\n",
    "y_reduced_ds = y_complete[sample_choosen]\n"
   ]
  },
  {
   "cell_type": "markdown",
   "metadata": {},
   "source": [
    "- Divide the database in 80% for training and 20% for test."
   ]
  },
  {
   "cell_type": "code",
   "execution_count": 5,
   "metadata": {},
   "outputs": [],
   "source": [
    "from sklearn.model_selection import train_test_split\n",
    "xtrain, xtest, ytrain, ytest = train_test_split(x_reduced_ds, y_reduced_ds, train_size=0.8)"
   ]
  },
  {
   "cell_type": "markdown",
   "metadata": {},
   "source": [
    "- Train a k-NN classifier with k = 10 on the training set."
   ]
  },
  {
   "cell_type": "code",
   "execution_count": 162,
   "metadata": {},
   "outputs": [
    {
     "data": {
      "text/html": [
       "<style>#sk-container-id-10 {color: black;}#sk-container-id-10 pre{padding: 0;}#sk-container-id-10 div.sk-toggleable {background-color: white;}#sk-container-id-10 label.sk-toggleable__label {cursor: pointer;display: block;width: 100%;margin-bottom: 0;padding: 0.3em;box-sizing: border-box;text-align: center;}#sk-container-id-10 label.sk-toggleable__label-arrow:before {content: \"▸\";float: left;margin-right: 0.25em;color: #696969;}#sk-container-id-10 label.sk-toggleable__label-arrow:hover:before {color: black;}#sk-container-id-10 div.sk-estimator:hover label.sk-toggleable__label-arrow:before {color: black;}#sk-container-id-10 div.sk-toggleable__content {max-height: 0;max-width: 0;overflow: hidden;text-align: left;background-color: #f0f8ff;}#sk-container-id-10 div.sk-toggleable__content pre {margin: 0.2em;color: black;border-radius: 0.25em;background-color: #f0f8ff;}#sk-container-id-10 input.sk-toggleable__control:checked~div.sk-toggleable__content {max-height: 200px;max-width: 100%;overflow: auto;}#sk-container-id-10 input.sk-toggleable__control:checked~label.sk-toggleable__label-arrow:before {content: \"▾\";}#sk-container-id-10 div.sk-estimator input.sk-toggleable__control:checked~label.sk-toggleable__label {background-color: #d4ebff;}#sk-container-id-10 div.sk-label input.sk-toggleable__control:checked~label.sk-toggleable__label {background-color: #d4ebff;}#sk-container-id-10 input.sk-hidden--visually {border: 0;clip: rect(1px 1px 1px 1px);clip: rect(1px, 1px, 1px, 1px);height: 1px;margin: -1px;overflow: hidden;padding: 0;position: absolute;width: 1px;}#sk-container-id-10 div.sk-estimator {font-family: monospace;background-color: #f0f8ff;border: 1px dotted black;border-radius: 0.25em;box-sizing: border-box;margin-bottom: 0.5em;}#sk-container-id-10 div.sk-estimator:hover {background-color: #d4ebff;}#sk-container-id-10 div.sk-parallel-item::after {content: \"\";width: 100%;border-bottom: 1px solid gray;flex-grow: 1;}#sk-container-id-10 div.sk-label:hover label.sk-toggleable__label {background-color: #d4ebff;}#sk-container-id-10 div.sk-serial::before {content: \"\";position: absolute;border-left: 1px solid gray;box-sizing: border-box;top: 0;bottom: 0;left: 50%;z-index: 0;}#sk-container-id-10 div.sk-serial {display: flex;flex-direction: column;align-items: center;background-color: white;padding-right: 0.2em;padding-left: 0.2em;position: relative;}#sk-container-id-10 div.sk-item {position: relative;z-index: 1;}#sk-container-id-10 div.sk-parallel {display: flex;align-items: stretch;justify-content: center;background-color: white;position: relative;}#sk-container-id-10 div.sk-item::before, #sk-container-id-10 div.sk-parallel-item::before {content: \"\";position: absolute;border-left: 1px solid gray;box-sizing: border-box;top: 0;bottom: 0;left: 50%;z-index: -1;}#sk-container-id-10 div.sk-parallel-item {display: flex;flex-direction: column;z-index: 1;position: relative;background-color: white;}#sk-container-id-10 div.sk-parallel-item:first-child::after {align-self: flex-end;width: 50%;}#sk-container-id-10 div.sk-parallel-item:last-child::after {align-self: flex-start;width: 50%;}#sk-container-id-10 div.sk-parallel-item:only-child::after {width: 0;}#sk-container-id-10 div.sk-dashed-wrapped {border: 1px dashed gray;margin: 0 0.4em 0.5em 0.4em;box-sizing: border-box;padding-bottom: 0.4em;background-color: white;}#sk-container-id-10 div.sk-label label {font-family: monospace;font-weight: bold;display: inline-block;line-height: 1.2em;}#sk-container-id-10 div.sk-label-container {text-align: center;}#sk-container-id-10 div.sk-container {/* jupyter's `normalize.less` sets `[hidden] { display: none; }` but bootstrap.min.css set `[hidden] { display: none !important; }` so we also need the `!important` here to be able to override the default hidden behavior on the sphinx rendered scikit-learn.org. See: https://github.com/scikit-learn/scikit-learn/issues/21755 */display: inline-block !important;position: relative;}#sk-container-id-10 div.sk-text-repr-fallback {display: none;}</style><div id=\"sk-container-id-10\" class=\"sk-top-container\"><div class=\"sk-text-repr-fallback\"><pre>KNeighborsClassifier(n_neighbors=10)</pre><b>In a Jupyter environment, please rerun this cell to show the HTML representation or trust the notebook. <br />On GitHub, the HTML representation is unable to render, please try loading this page with nbviewer.org.</b></div><div class=\"sk-container\" hidden><div class=\"sk-item\"><div class=\"sk-estimator sk-toggleable\"><input class=\"sk-toggleable__control sk-hidden--visually\" id=\"sk-estimator-id-10\" type=\"checkbox\" checked><label for=\"sk-estimator-id-10\" class=\"sk-toggleable__label sk-toggleable__label-arrow\">KNeighborsClassifier</label><div class=\"sk-toggleable__content\"><pre>KNeighborsClassifier(n_neighbors=10)</pre></div></div></div></div></div>"
      ],
      "text/plain": [
       "KNeighborsClassifier(n_neighbors=10)"
      ]
     },
     "execution_count": 162,
     "metadata": {},
     "output_type": "execute_result"
    }
   ],
   "source": [
    "# TODO\n",
    "from sklearn import neighbors\n",
    "clf = neighbors.KNeighborsClassifier(10)\n",
    "clf.fit(xtrain, ytrain)\n"
   ]
  },
  {
   "cell_type": "markdown",
   "metadata": {},
   "source": [
    "- Display image 4, the class of image 4 and its predicted class"
   ]
  },
  {
   "cell_type": "code",
   "execution_count": 168,
   "metadata": {},
   "outputs": [
    {
     "data": {
      "image/png": "[encoded data removed]",
      "text/plain": [
       "<Figure size 640x480 with 1 Axes>"
      ]
     },
     "metadata": {},
     "output_type": "display_data"
    },
    {
     "name": "stdout",
     "output_type": "stream",
     "text": [
      "class predicted : 5 true class: 5\n"
     ]
    }
   ],
   "source": [
    "from sklearn import datasets\n",
    "import matplotlib.pyplot as plt\n",
    "sample_displayed = 4\n",
    "\n",
    "xtest_sh = xtest.reshape((-1, 28, 28))\n",
    "plt.imshow(xtest_sh[sample_displayed],cmap=plt.cm.gray_r,interpolation=\"nearest\")\n",
    "plt.show()\n",
    "\n",
    "y_test_predicted = clf.predict(xtest[:])\n",
    "print(\"class predicted :\",y_test_predicted[sample_displayed],\"true class:\", ytest[sample_displayed])\n"
   ]
  },
  {
   "cell_type": "markdown",
   "metadata": {},
   "source": [
    "- Display the score on the test set"
   ]
  },
  {
   "cell_type": "code",
   "execution_count": 177,
   "metadata": {},
   "outputs": [
    {
     "name": "stdout",
     "output_type": "stream",
     "text": [
      "the score on the test set is  0.95\n"
     ]
    }
   ],
   "source": [
    "score = clf.score(xtest, ytest) \n",
    "print(\"the score on the test set is \",score)"
   ]
  },
  {
   "cell_type": "markdown",
   "metadata": {},
   "source": [
    "- What is the error rate for the training set ? Is it normal ? Underfitting/Overfitting ?"
   ]
  },
  {
   "cell_type": "code",
   "execution_count": 175,
   "metadata": {},
   "outputs": [
    {
     "name": "stdout",
     "output_type": "stream",
     "text": [
      "0.06142857142857139\n"
     ]
    }
   ],
   "source": [
    "score = clf.score(xtrain, ytrain) \n",
    "print(1-score)\n",
    "# normal, no underfitting, no overtfitting"
   ]
  },
  {
   "cell_type": "markdown",
   "metadata": {},
   "source": [
    "- Vary the percentage of samples (training and test) and display the score. What is the remarkable percentage ?"
   ]
  },
  {
   "cell_type": "code",
   "execution_count": 180,
   "metadata": {},
   "outputs": [
    {
     "name": "stdout",
     "output_type": "stream",
     "text": [
      "600  |  0.92  |  0.909\n",
      "602  |  0.929  |  0.915\n",
      "604  |  0.925  |  0.911\n",
      "606  |  0.927  |  0.914\n",
      "608  |  0.927  |  0.914\n",
      "610  |  0.927  |  0.908\n",
      "612  |  0.925  |  0.915\n",
      "614  |  0.923  |  0.921\n",
      "616  |  0.93  |  0.898\n",
      "618  |  0.932  |  0.91\n",
      "620  |  0.928  |  0.913\n",
      "622  |  0.932  |  0.906\n",
      "624  |  0.932  |  0.905\n",
      "626  |  0.927  |  0.907\n",
      "628  |  0.925  |  0.911\n",
      "630  |  0.928  |  0.915\n",
      "632  |  0.928  |  0.899\n",
      "634  |  0.93  |  0.915\n",
      "636  |  0.927  |  0.91\n",
      "638  |  0.929  |  0.905\n",
      "640  |  0.927  |  0.915\n",
      "642  |  0.934  |  0.899\n",
      "644  |  0.927  |  0.915\n",
      "646  |  0.929  |  0.909\n",
      "648  |  0.928  |  0.91\n",
      "650  |  0.928  |  0.915\n",
      "652  |  0.928  |  0.916\n",
      "654  |  0.929  |  0.898\n",
      "656  |  0.929  |  0.912\n",
      "658  |  0.927  |  0.924\n",
      "660  |  0.93  |  0.899\n",
      "662  |  0.928  |  0.91\n",
      "664  |  0.923  |  0.916\n",
      "666  |  0.928  |  0.908\n",
      "668  |  0.929  |  0.916\n",
      "670  |  0.93  |  0.919\n",
      "672  |  0.926  |  0.918\n",
      "674  |  0.922  |  0.907\n",
      "676  |  0.925  |  0.921\n",
      "678  |  0.927  |  0.918\n",
      "680  |  0.928  |  0.923\n",
      "682  |  0.927  |  0.912\n",
      "684  |  0.929  |  0.901\n",
      "686  |  0.927  |  0.915\n",
      "688  |  0.925  |  0.907\n",
      "690  |  0.934  |  0.907\n",
      "692  |  0.929  |  0.919\n",
      "694  |  0.931  |  0.92\n",
      "696  |  0.932  |  0.905\n",
      "698  |  0.928  |  0.924\n",
      "700  |  0.93  |  0.903\n",
      "702  |  0.931  |  0.922\n",
      "704  |  0.929  |  0.909\n",
      "706  |  0.931  |  0.916\n",
      "708  |  0.932  |  0.914\n",
      "710  |  0.933  |  0.908\n",
      "712  |  0.931  |  0.919\n",
      "714  |  0.934  |  0.911\n",
      "716  |  0.931  |  0.908\n",
      "718  |  0.93  |  0.905\n",
      "720  |  0.93  |  0.924\n",
      "722  |  0.932  |  0.921\n",
      "724  |  0.932  |  0.911\n",
      "726  |  0.924  |  0.923\n",
      "728  |  0.933  |  0.914\n",
      "730  |  0.927  |  0.927\n",
      "732  |  0.934  |  0.909\n",
      "734  |  0.93  |  0.911\n",
      "736  |  0.932  |  0.911\n",
      "738  |  0.931  |  0.912\n",
      "740  |  0.932  |  0.928\n",
      "742  |  0.933  |  0.906\n",
      "744  |  0.932  |  0.92\n",
      "746  |  0.933  |  0.917\n",
      "748  |  0.933  |  0.925\n",
      "750  |  0.934  |  0.907\n",
      "752  |  0.934  |  0.911\n",
      "754  |  0.932  |  0.911\n",
      "756  |  0.933  |  0.924\n",
      "758  |  0.934  |  0.907\n",
      "760  |  0.935  |  0.91\n",
      "762  |  0.929  |  0.92\n",
      "764  |  0.933  |  0.916\n",
      "766  |  0.934  |  0.91\n",
      "768  |  0.936  |  0.91\n",
      "770  |  0.933  |  0.923\n",
      "772  |  0.934  |  0.905\n",
      "774  |  0.934  |  0.919\n",
      "776  |  0.937  |  0.92\n",
      "778  |  0.934  |  0.909\n",
      "780  |  0.934  |  0.918\n",
      "782  |  0.932  |  0.911\n",
      "784  |  0.931  |  0.925\n",
      "786  |  0.933  |  0.919\n",
      "788  |  0.935  |  0.913\n",
      "790  |  0.937  |  0.92\n",
      "792  |  0.93  |  0.932\n",
      "794  |  0.933  |  0.922\n",
      "796  |  0.937  |  0.918\n",
      "798  |  0.934  |  0.922\n",
      "800  |  0.938  |  0.894\n",
      "802  |  0.935  |  0.912\n",
      "804  |  0.935  |  0.916\n",
      "806  |  0.933  |  0.913\n",
      "808  |  0.939  |  0.898\n",
      "810  |  0.934  |  0.922\n",
      "812  |  0.934  |  0.921\n",
      "814  |  0.934  |  0.925\n",
      "816  |  0.937  |  0.909\n",
      "818  |  0.934  |  0.922\n",
      "820  |  0.934  |  0.924\n",
      "822  |  0.932  |  0.912\n",
      "824  |  0.936  |  0.919\n",
      "826  |  0.934  |  0.921\n",
      "828  |  0.933  |  0.931\n",
      "830  |  0.932  |  0.928\n",
      "832  |  0.936  |  0.91\n",
      "834  |  0.935  |  0.916\n",
      "836  |  0.935  |  0.929\n",
      "838  |  0.937  |  0.921\n",
      "840  |  0.935  |  0.926\n",
      "842  |  0.937  |  0.916\n",
      "844  |  0.938  |  0.91\n",
      "846  |  0.934  |  0.922\n",
      "848  |  0.932  |  0.912\n",
      "850  |  0.936  |  0.899\n",
      "852  |  0.938  |  0.919\n",
      "854  |  0.934  |  0.923\n",
      "856  |  0.938  |  0.926\n",
      "858  |  0.936  |  0.91\n",
      "860  |  0.935  |  0.924\n",
      "862  |  0.935  |  0.933\n",
      "864  |  0.934  |  0.909\n",
      "866  |  0.937  |  0.931\n",
      "868  |  0.936  |  0.915\n",
      "870  |  0.937  |  0.915\n",
      "872  |  0.935  |  0.916\n",
      "874  |  0.936  |  0.933\n",
      "876  |  0.934  |  0.929\n",
      "878  |  0.938  |  0.895\n",
      "880  |  0.936  |  0.927\n",
      "882  |  0.936  |  0.929\n",
      "884  |  0.938  |  0.909\n",
      "886  |  0.933  |  0.932\n",
      "888  |  0.935  |  0.932\n",
      "890  |  0.94  |  0.92\n",
      "892  |  0.935  |  0.913\n",
      "894  |  0.936  |  0.921\n",
      "896  |  0.936  |  0.929\n",
      "898  |  0.937  |  0.922\n",
      "900  |  0.94  |  0.908\n",
      "902  |  0.938  |  0.924\n",
      "904  |  0.938  |  0.91\n",
      "906  |  0.937  |  0.93\n",
      "908  |  0.939  |  0.915\n",
      "910  |  0.936  |  0.904\n",
      "912  |  0.935  |  0.945\n",
      "914  |  0.936  |  0.933\n",
      "916  |  0.935  |  0.914\n",
      "918  |  0.939  |  0.917\n",
      "920  |  0.935  |  0.935\n",
      "922  |  0.936  |  0.933\n",
      "924  |  0.936  |  0.921\n",
      "926  |  0.936  |  0.935\n",
      "928  |  0.938  |  0.928\n",
      "930  |  0.937  |  0.926\n",
      "932  |  0.936  |  0.918\n",
      "934  |  0.936  |  0.933\n",
      "936  |  0.936  |  0.941\n",
      "938  |  0.939  |  0.903\n",
      "940  |  0.936  |  0.94\n",
      "942  |  0.935  |  0.938\n",
      "944  |  0.937  |  0.939\n",
      "946  |  0.938  |  0.915\n",
      "948  |  0.937  |  0.927\n",
      "950  |  0.937  |  0.92\n",
      "952  |  0.937  |  0.929\n",
      "954  |  0.936  |  0.939\n",
      "956  |  0.937  |  0.895\n",
      "958  |  0.938  |  0.933\n",
      "960  |  0.938  |  0.935\n",
      "962  |  0.938  |  0.895\n",
      "964  |  0.939  |  0.911\n",
      "966  |  0.937  |  0.953\n",
      "968  |  0.937  |  0.925\n",
      "970  |  0.936  |  0.967\n",
      "972  |  0.937  |  0.886\n",
      "974  |  0.937  |  0.938\n",
      "976  |  0.938  |  0.892\n",
      "978  |  0.938  |  0.936\n",
      "980  |  0.938  |  0.93\n",
      "982  |  0.938  |  0.922\n",
      "984  |  0.938  |  0.9\n",
      "986  |  0.938  |  0.886\n",
      "988  |  0.938  |  0.917\n",
      "990  |  0.937  |  0.96\n",
      "992  |  0.938  |  0.925\n",
      "994  |  0.938  |  0.9\n",
      "996  |  0.938  |  0.8\n",
      "998  |  0.938  |  0.9\n"
     ]
    }
   ],
   "source": [
    "from sklearn.model_selection import train_test_split\n",
    "from sklearn import neighbors\n",
    "\n",
    "for test_percent in range(850,1000,5):\n",
    "    sample_choosen = np.random.randint(70000, size=5000)\n",
    "    x_reduced_ds = X_complete[sample_choosen]\n",
    "    y_reduced_ds = y_complete[sample_choosen]\n",
    "\n",
    "    xtrain, xtest, ytrain, ytest = train_test_split(x_reduced_ds, y_reduced_ds, train_size=test_percent/1000)\n",
    "    # TODO\n",
    "    clf = neighbors.KNeighborsClassifier(10)\n",
    "    clf.fit(xtrain, ytrain)\n",
    "    y_test_predicted = clf.predict(xtest[:])\n",
    "    print(test_percent/1000,\" | \",format(clf.score(xtrain, ytrain), '.3g') ,\" | \",format(clf.score(xtest, ytest), '.3g')  )"
   ]
  },
  {
   "cell_type": "markdown",
   "metadata": {},
   "source": [
    "- Vary the number of neighbors (k) from 2 to 15 and display the scores as a curve (one curve for training and one for test). What is the optimal k ? Implement two approaches:\n",
    "    - use a loop on k using the training and test datasets,\n",
    "    - use a K-fold validation as implemented with the functions **kf = KFold(len(X), n_folds=10, shuffle=True, random_state=42)** and **kf.split(X)** from sklearn.model_selection. Let's remind that the score for a particular model (one choice of k) is obtained as the average score over all folds."
   ]
  },
  {
   "cell_type": "code",
   "execution_count": 197,
   "metadata": {},
   "outputs": [
    {
     "data": {
      "image/png": "[encoded data removed]",
      "text/plain": [
       "<Figure size 1000x600 with 1 Axes>"
      ]
     },
     "metadata": {},
     "output_type": "display_data"
    }
   ],
   "source": [
    "# TODO\n",
    "## Use a loop\n",
    "from sklearn.model_selection import train_test_split, KFold\n",
    "from sklearn import neighbors\n",
    "import numpy as np\n",
    "\n",
    "# Create an array to store the results for each value of n_neighbors\n",
    "vec_nb_voisin = np.zeros(len(range(2, 15)))\n",
    "scores_test = np.zeros(len(range(2, 15)))\n",
    "scores_train = np.zeros(len(range(2, 15)))\n",
    "\n",
    "# Create KFold instance\n",
    "kf = KFold(n_splits=10, shuffle=True, random_state=42)\n",
    "\n",
    "# Loop over different values of n_neighbors\n",
    "for i, nb_voisin in enumerate(range(2, 15)):\n",
    "    vec_nb_voisin[i] = nb_voisin\n",
    "    \n",
    "    # Initialize scores for each iteration of k-fold\n",
    "    scores_test_kfold = []\n",
    "    scores_train_kfold = []\n",
    "    \n",
    "    # Iterate through the folds\n",
    "    for train_index, test_index in kf.split(x_reduced_ds, y_reduced_ds):\n",
    "        X_train, X_test = x_reduced_ds[train_index], x_reduced_ds[test_index]\n",
    "        y_train, y_test = y_reduced_ds[train_index], y_reduced_ds[test_index]\n",
    "\n",
    "        # Create a k-nearest neighbors classifier\n",
    "        knn = neighbors.KNeighborsClassifier(n_neighbors=nb_voisin)\n",
    "\n",
    "        # Train the model\n",
    "        knn.fit(X_train, y_train)\n",
    "\n",
    "        # Evaluate the model on the test set\n",
    "        score_test = knn.score(X_test, y_test)\n",
    "        scores_test_kfold.append(score_test)\n",
    "\n",
    "        # Evaluate the model on the training set\n",
    "        score_train = knn.score(X_train, y_train)\n",
    "        scores_train_kfold.append(score_train)\n",
    "\n",
    "    # Average scores over all folds\n",
    "    scores_test[i] = np.mean(scores_test_kfold)\n",
    "    scores_train[i] = np.mean(scores_train_kfold)\n",
    "\n",
    "# Now you have arrays vec_nb_voisin, scores_test, and scores_train with the results for each value of n_neighbors\n",
    "\n",
    "plt.figure(figsize=(10, 6))\n",
    "\n",
    "plt.plot(vec_nb_voisin, scores_train, label='Training Score', marker='o')\n",
    "plt.plot(vec_nb_voisin, scores_test, label='Test Score', marker='o')\n",
    "\n",
    "plt.title('KNN Performance for Different Number of Neighbors')\n",
    "plt.xlabel('Number of Neighbors (n_neighbors)')\n",
    "plt.ylabel('Accuracy Score')\n",
    "plt.legend()\n",
    "plt.grid(True)\n",
    "plt.show()"
   ]
  },
  {
   "cell_type": "markdown",
   "metadata": {},
   "source": [
    "- Still using K-fold, vary the type of distance used. What is the best distance in our case ?"
   ]
  },
  {
   "cell_type": "code",
   "execution_count": null,
   "metadata": {},
   "outputs": [],
   "source": [
    "# TODO\n",
    "## Use a loop\n",
    "from sklearn.model_selection import train_test_split, KFold\n",
    "from sklearn import neighbors\n",
    "import numpy as np\n",
    "\n",
    "vec_nb_voisin = np.zeros(len(range(2, 15)))\n",
    "scores_test = np.zeros(len(range(2, 15)))\n",
    "scores_train = np.zeros(len(range(2, 15)))\n",
    "\n",
    "kf = KFold(n_splits=10, shuffle=True, random_state=42)\n",
    "\n",
    "# Loop over different values of n_neighbors\n",
    "for i, nb_voisin in enumerate(range(2, 15)):\n",
    "    vec_nb_voisin[i] = nb_voisin\n",
    "    \n",
    "    # Initialize scores for each iteration of k-fold\n",
    "    scores_test_kfold = []\n",
    "    scores_train_kfold = []\n",
    "    \n",
    "    # Iterate through the folds\n",
    "    for train_index, test_index in kf.split(x_reduced_ds, y_reduced_ds):\n",
    "        X_train, X_test = x_reduced_ds[train_index], x_reduced_ds[test_index]\n",
    "        y_train, y_test = y_reduced_ds[train_index], y_reduced_ds[test_index]\n",
    "\n",
    "        # Create a k-nearest neighbors classifier\n",
    "        knn = neighbors.KNeighborsClassifier(n_neighbors=nb_voisin,metric='minkowski',p=1)\n",
    "\n",
    "        # Train the model\n",
    "        knn.fit(X_train, y_train)\n",
    "\n",
    "        # Evaluate the model on the test set\n",
    "        score_test = knn.score(X_test, y_test)\n",
    "        scores_test_kfold.append(score_test)\n",
    "\n",
    "        # Evaluate the model on the training set\n",
    "        score_train = knn.score(X_train, y_train)\n",
    "        scores_train_kfold.append(score_train)\n",
    "\n",
    "    # Average scores over all folds\n",
    "    scores_test[i] = np.mean(scores_test_kfold)\n",
    "    scores_train[i] = np.mean(scores_train_kfold)\n",
    "\n",
    "plt.figure(figsize=(10, 6))\n",
    "\n",
    "plt.plot(vec_nb_voisin, scores_train, label='Training Score', marker='o')\n",
    "plt.plot(vec_nb_voisin, scores_test, label='Test Score', marker='o')\n",
    "\n",
    "plt.title('KNN Performance for Different Number of Neighbors')\n",
    "plt.xlabel('Number of Neighbors (n_neighbors)')\n",
    "plt.ylabel('Accuracy Score')\n",
    "plt.legend()\n",
    "plt.grid(True)\n",
    "plt.show()"
   ]
  },
  {
   "cell_type": "markdown",
   "metadata": {},
   "source": [
    "- Fixez n_job à 1 puis à -1 et calculez le temps de chacun."
   ]
  },
  {
   "cell_type": "code",
   "execution_count": null,
   "metadata": {},
   "outputs": [],
   "source": [
    "# TODO\n",
    "## Use a loop\n",
    "from sklearn.model_selection import train_test_split, KFold\n",
    "from sklearn import neighbors\n",
    "import numpy as np\n",
    "from time import time\n",
    "\n",
    "t0 = time()\n",
    "vec_nb_voisin = np.zeros(len(range(2, 15)))\n",
    "scores_test = np.zeros(len(range(2, 15)))\n",
    "scores_train = np.zeros(len(range(2, 15)))\n",
    "\n",
    "kf = KFold(n_splits=10, shuffle=True, random_state=42)\n",
    "\n",
    "# Loop over different values of n_neighbors\n",
    "for i, nb_voisin in enumerate(range(2, 15)):\n",
    "    vec_nb_voisin[i] = nb_voisin\n",
    "    \n",
    "    # Initialize scores for each iteration of k-fold\n",
    "    scores_test_kfold = []\n",
    "    scores_train_kfold = []\n",
    "    \n",
    "    # Iterate through the folds\n",
    "    for train_index, test_index in kf.split(x_reduced_ds, y_reduced_ds):\n",
    "        X_train, X_test = x_reduced_ds[train_index], x_reduced_ds[test_index]\n",
    "        y_train, y_test = y_reduced_ds[train_index], y_reduced_ds[test_index]\n",
    "\n",
    "        # Create a k-nearest neighbors classifier\n",
    "        knn = neighbors.KNeighborsClassifier(n_neighbors=nb_voisin,metric='minkowski',n_jobs=1)\n",
    "\n",
    "        # Train the model\n",
    "        knn.fit(X_train, y_train)\n",
    "\n",
    "        # Evaluate the model on the test set\n",
    "        score_test = knn.score(X_test, y_test)\n",
    "        scores_test_kfold.append(score_test)\n",
    "\n",
    "        # Evaluate the model on the training set\n",
    "        score_train = knn.score(X_train, y_train)\n",
    "        scores_train_kfold.append(score_train)\n",
    "\n",
    "    # Average scores over all folds\n",
    "    scores_test[i] = np.mean(scores_test_kfold)\n",
    "    scores_train[i] = np.mean(scores_train_kfold)\n",
    "\n",
    "# Now you have arrays vec_nb_voisin, scores_test, and scores_train with the results for each value of n_neighbors\n",
    "\n",
    "plt.figure(figsize=(10, 6))\n",
    "\n",
    "plt.plot(vec_nb_voisin, scores_train, label='Training Score', marker='o')\n",
    "plt.plot(vec_nb_voisin, scores_test, label='Test Score', marker='o')\n",
    "\n",
    "plt.title('KNN Performance for Different Number of Neighbors')\n",
    "plt.xlabel('Number of Neighbors (n_neighbors)')\n",
    "plt.ylabel('Accuracy Score')\n",
    "plt.legend()\n",
    "plt.grid(True)\n",
    "plt.show()\n",
    "t1 = time()\n",
    "\n",
    "# TODO\n",
    "## Use a loop\n",
    "from sklearn.model_selection import train_test_split, KFold\n",
    "from sklearn import neighbors\n",
    "import numpy as np\n",
    "\n",
    "vec_nb_voisin = np.zeros(len(range(2, 15)))\n",
    "scores_test = np.zeros(len(range(2, 15)))\n",
    "scores_train = np.zeros(len(range(2, 15)))\n",
    "\n",
    "kf = KFold(n_splits=10, shuffle=True, random_state=42)\n",
    "\n",
    "# Loop over different values of n_neighbors\n",
    "for i, nb_voisin in enumerate(range(2, 15)):\n",
    "    vec_nb_voisin[i] = nb_voisin\n",
    "    \n",
    "    # Initialize scores for each iteration of k-fold\n",
    "    scores_test_kfold = []\n",
    "    scores_train_kfold = []\n",
    "    \n",
    "    # Iterate through the folds\n",
    "    for train_index, test_index in kf.split(x_reduced_ds, y_reduced_ds):\n",
    "        X_train, X_test = x_reduced_ds[train_index], x_reduced_ds[test_index]\n",
    "        y_train, y_test = y_reduced_ds[train_index], y_reduced_ds[test_index]\n",
    "\n",
    "        # Create a k-nearest neighbors classifier\n",
    "        knn = neighbors.KNeighborsClassifier(n_neighbors=nb_voisin,metric='minkowski',n_jobs=-1)\n",
    "\n",
    "        # Train the model\n",
    "        knn.fit(X_train, y_train)\n",
    "\n",
    "        # Evaluate the model on the test set\n",
    "        score_test = knn.score(X_test, y_test)\n",
    "        scores_test_kfold.append(score_test)\n",
    "\n",
    "        # Evaluate the model on the training set\n",
    "        score_train = knn.score(X_train, y_train)\n",
    "        scores_train_kfold.append(score_train)\n",
    "\n",
    "    # Average scores over all folds\n",
    "    scores_test[i] = np.mean(scores_test_kfold)\n",
    "    scores_train[i] = np.mean(scores_train_kfold)\n",
    "\n",
    "# Now you have arrays vec_nb_voisin, scores_test, and scores_train with the results for each value of n_neighbors\n",
    "\n",
    "plt.figure(figsize=(10, 6))\n",
    "\n",
    "plt.plot(vec_nb_voisin, scores_train, label='Training Score', marker='o')\n",
    "plt.plot(vec_nb_voisin, scores_test, label='Test Score', marker='o')\n",
    "\n",
    "plt.title('KNN Performance for Different Number of Neighbors')\n",
    "plt.xlabel('Number of Neighbors (n_neighbors)')\n",
    "plt.ylabel('Accuracy Score')\n",
    "plt.legend()\n",
    "plt.grid(True)\n",
    "plt.show()\n",
    "t2 = time()\n",
    "\n",
    "\n",
    "print(\"pour n_jobs = 1\", t1-t0)\n",
    "print(\"pour n_jobs = -1\", t2-t1)"
   ]
  },
  {
   "cell_type": "markdown",
   "metadata": {},
   "source": [
    "- In your opinion, what are the advantages and disadvantages of the k-NN method: optimality ? computation time ? scalability ?\n",
    "\n",
    "very long computation time, not scalable, ez to understand, not optimal"
   ]
  },
  {
   "cell_type": "markdown",
   "metadata": {},
   "source": [
    "# 3. The Support Vector Machines (SVM) method\n",
    "\n",
    "The SVM is a method finding a linear separation between 2 classes of samples in an augmented space using kernel functions, while optimizing the margin between the 2 classes. This method can have a good performance on clasification problems.\n",
    "\n",
    "The SVM method requires:\n",
    "- a kernel (e.g. Gaussian)\n",
    "- a training dataset\n",
    "\n",
    "The SVM method is designed for binary classification and it is possible to perform multi-class classification by using several \"one-vs-rest\" binary classification. The Support Vector Classification method automatically perform this multi-class approach.\n",
    "\n",
    "In the following example, we have 3 classes (ω1, ω2, ω3) and the goal is to find the value of the class for an unknown example x. We consider several Kernels\n",
    "\n",
    "<img src=\"https://scikit-learn.org/stable/_images/sphx_glr_plot_iris_svc_001.png\" alt=\"SVM\" />\n",
    "\n",
    "The results are highly dependent on the choice of this kernel."
   ]
  },
  {
   "cell_type": "markdown",
   "metadata": {},
   "source": [
    "### Information:\n",
    "The algorithm SVC is implemented in a package called **sklearn.svm**: https://scikit-learn.org/stable/modules/generated/sklearn.svm.SVC.html#sklearn.svm.SVC.\n",
    "\n",
    "In order for the SVM method to perform well, the data needs to be centered. This can be performed using the **StandardScaler** function in the package sklearn.preprocessing. The main commands are then:\n",
    "- scaler = StandardScaler()\n",
    "- X_train = scaler.fit_transform(X_train)\n",
    "- X_test = scaler.transform(X_test)\n",
    "\n",
    "Then to get the SVC classifier, here are the main commands:\n",
    "- The line **clf = SVC(kernel='rbf', decision_function_shape='ovr')** creates an object of type classifier based on the Gaussian kernel,\n",
    "- The instruction clf.fit(X, y) uses the data to define the classifier (training),\n",
    "- The command **clf.predict()** is used to classify the new examples,\n",
    "- The command **clf.score(xtest, ytest)** computes the global score of the classifier for a given dataset."
   ]
  },
  {
   "cell_type": "markdown",
   "metadata": {},
   "source": [
    "## Exercice 3: The SVC method"
   ]
  },
  {
   "cell_type": "markdown",
   "metadata": {},
   "source": [
    "- Just like before: import the data and extract a data sample named X with a size of 5000 examples."
   ]
  },
  {
   "cell_type": "code",
   "execution_count": 1,
   "metadata": {},
   "outputs": [],
   "source": [
    "import numpy as np\n",
    "from sklearn.datasets import fetch_openml\n",
    "mnist = fetch_openml('mnist_784',parser='auto')\n",
    "\n",
    "X_complete=np.asarray(mnist.data)\n",
    "y_complete=np.asarray(mnist.target)\n",
    "\n",
    "# TODO\n",
    "sample_choosen = np.random.randint(70000, size=5000)\n",
    "\n",
    "\n",
    "x_reduced_ds = X_complete[sample_choosen]\n",
    "y_reduced_ds = y_complete[sample_choosen]\n"
   ]
  },
  {
   "cell_type": "markdown",
   "metadata": {},
   "source": [
    "- Inspired by the previous work on the k-NN: use K-fold validation in order to decide which kernel gives the best results for our classification problem using an SVC classifier. Do not forget to scale the data."
   ]
  },
  {
   "cell_type": "code",
   "execution_count": 3,
   "metadata": {},
   "outputs": [
    {
     "name": "stdout",
     "output_type": "stream",
     "text": [
      "Kernel: linear, Average Accuracy: 0.9072000000000001\n",
      "Kernel: poly, Average Accuracy: 0.8015999999999999\n",
      "Kernel: rbf, Average Accuracy: 0.9182\n",
      "Kernel: sigmoid, Average Accuracy: 0.9068000000000002\n"
     ]
    },
    {
     "data": {
      "image/png": "[encoded data removed]",
      "text/plain": [
       "<Figure size 640x480 with 1 Axes>"
      ]
     },
     "metadata": {},
     "output_type": "display_data"
    }
   ],
   "source": [
    "import numpy as np\n",
    "import matplotlib.pyplot as plt\n",
    "from sklearn.datasets import fetch_openml\n",
    "from sklearn.model_selection import cross_val_score, KFold\n",
    "from sklearn.preprocessing import StandardScaler\n",
    "from sklearn.svm import SVC\n",
    "\n",
    "# Load the MNIST dataset\n",
    "mnist = fetch_openml('mnist_784', parser='auto')\n",
    "\n",
    "X_complete = np.asarray(mnist.data)\n",
    "y_complete = np.asarray(mnist.target)\n",
    "\n",
    "# Choose a random subset of the dataset\n",
    "sample_chosen = np.random.randint(70000, size=5000)\n",
    "\n",
    "x_reduced_ds = X_complete[sample_chosen]\n",
    "y_reduced_ds = y_complete[sample_chosen]\n",
    "\n",
    "# Scale the data\n",
    "scaler = StandardScaler()\n",
    "x_reduced_ds_scaled = scaler.fit_transform(x_reduced_ds)\n",
    "\n",
    "# Set up K-fold cross-validation\n",
    "kf = KFold(n_splits=5, shuffle=True, random_state=42)\n",
    "\n",
    "# Try different kernels and evaluate their performance\n",
    "kernel_options = ['linear', 'poly', 'rbf', 'sigmoid']\n",
    "\n",
    "for kernel in kernel_options:\n",
    "    svc = SVC(kernel=kernel)\n",
    "\n",
    "    # Perform cross-validation\n",
    "    scores = cross_val_score(svc, x_reduced_ds_scaled, y_reduced_ds, cv=kf)\n",
    "\n",
    "    # Display the results\n",
    "    print(f\"Kernel: {kernel}, Average Accuracy: {np.mean(scores)}\")\n",
    "\n",
    "# Plot the results\n",
    "plt.bar(kernel_options, [np.mean(cross_val_score(SVC(kernel=k), x_reduced_ds_scaled, y_reduced_ds, cv=kf)) for k in kernel_options])\n",
    "plt.title('Kernel Performance for SVC')\n",
    "plt.xlabel('Kernel')\n",
    "plt.ylabel('Average Accuracy')\n",
    "plt.show()\n"
   ]
  },
  {
   "cell_type": "markdown",
   "metadata": {},
   "source": [
    "- In your opinion, what are the advantages and disadvantages of the SVM method: optimality ? computation time ? scalability ?"
   ]
  },
  {
   "cell_type": "markdown",
   "metadata": {},
   "source": [
    "### Complementary definitions from the medical domain:\n",
    "We define:\n",
    "- TP (true positives) represents the number of ill individuals with a positive test,\n",
    "- FP (faux positives) represents the number of healthy individuals with a positive test,\n",
    "- TP (true negatives) represents the number of ill individuals with a negative test,\n",
    "- FP (faux negatives) represents the number of healthy individuals with a negative test.\n",
    "\n",
    "Two measures allow to judge the quality of a classifier:\n",
    "1. **Sensitivity** (or *true positive rate, recall, probability of detection*): probability that the test is positive when the illness is present = proportion of positives correctly identified = TP/(TP+FN).\n",
    "2. **Specificity** (or *true negative rate*): probability that the test is negative when the patient is healthy = proportion of negatives correctly identified = TN/(VP+FN)."
   ]
  }
 ],
 "metadata": {
  "kernelspec": {
   "display_name": "Python 3 (ipykernel)",
   "language": "python",
   "name": "python3"
  },
  "language_info": {
   "codemirror_mode": {
    "name": "ipython",
    "version": 3
   },
   "file_extension": ".py",
   "mimetype": "text/x-python",
   "name": "python",
   "nbconvert_exporter": "python",
   "pygments_lexer": "ipython3",
   "version": "3.11.5"
  }
 },
 "nbformat": 4,
 "nbformat_minor": 4
}
